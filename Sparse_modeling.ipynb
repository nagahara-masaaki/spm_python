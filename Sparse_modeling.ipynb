{
  "nbformat": 4,
  "nbformat_minor": 0,
  "metadata": {
    "colab": {
      "name": "Sparse_modeling.ipynb",
      "provenance": [],
      "authorship_tag": "ABX9TyOdKie0MoiQM04y6frTY83m",
      "include_colab_link": true
    },
    "kernelspec": {
      "name": "python3",
      "display_name": "Python 3"
    },
    "language_info": {
      "name": "python"
    }
  },
  "cells": [
    {
      "cell_type": "markdown",
      "metadata": {
        "id": "view-in-github",
        "colab_type": "text"
      },
      "source": [
        "<a href=\"https://colab.research.google.com/github/nagahara-masaaki/spm_python/blob/main/Sparse_modeling.ipynb\" target=\"_parent\"><img src=\"https://colab.research.google.com/assets/colab-badge.svg\" alt=\"Open In Colab\"/></a>"
      ]
    },
    {
      "cell_type": "markdown",
      "source": [
        "# 2.3 CVXによる数値最適化\n",
        "\n",
        "永原、スパースモデリング（コロナ社）、2.3節"
      ],
      "metadata": {
        "id": "rZ4EXblWeuzo"
      }
    },
    {
      "cell_type": "markdown",
      "source": [
        "## Initialization"
      ],
      "metadata": {
        "id": "RI9S4nwzJTfg"
      }
    },
    {
      "cell_type": "markdown",
      "source": [
        "Install CVXPY"
      ],
      "metadata": {
        "id": "9zzx7n-1e5ia"
      }
    },
    {
      "cell_type": "code",
      "source": [
        "! pip install cvxpy"
      ],
      "metadata": {
        "colab": {
          "base_uri": "https://localhost:8080/"
        },
        "id": "38v5JBuye30L",
        "outputId": "9cd5d791-1636-411e-e613-3187c3d3d922"
      },
      "execution_count": 1,
      "outputs": [
        {
          "output_type": "stream",
          "name": "stdout",
          "text": [
            "Looking in indexes: https://pypi.org/simple, https://us-python.pkg.dev/colab-wheels/public/simple/\n",
            "Requirement already satisfied: cvxpy in /usr/local/lib/python3.7/dist-packages (1.0.31)\n",
            "Requirement already satisfied: multiprocess in /usr/local/lib/python3.7/dist-packages (from cvxpy) (0.70.12.2)\n",
            "Requirement already satisfied: scipy>=1.1.0 in /usr/local/lib/python3.7/dist-packages (from cvxpy) (1.4.1)\n",
            "Requirement already satisfied: scs>=1.1.3 in /usr/local/lib/python3.7/dist-packages (from cvxpy) (3.2.0)\n",
            "Requirement already satisfied: numpy>=1.15 in /usr/local/lib/python3.7/dist-packages (from cvxpy) (1.21.6)\n",
            "Requirement already satisfied: osqp>=0.4.1 in /usr/local/lib/python3.7/dist-packages (from cvxpy) (0.6.2.post0)\n",
            "Requirement already satisfied: ecos>=2 in /usr/local/lib/python3.7/dist-packages (from cvxpy) (2.0.10)\n",
            "Requirement already satisfied: qdldl in /usr/local/lib/python3.7/dist-packages (from osqp>=0.4.1->cvxpy) (0.1.5.post2)\n",
            "Requirement already satisfied: dill>=0.3.4 in /usr/local/lib/python3.7/dist-packages (from multiprocess->cvxpy) (0.3.5.1)\n"
          ]
        }
      ]
    },
    {
      "cell_type": "markdown",
      "source": [
        "Import packages"
      ],
      "metadata": {
        "id": "dRiHYr6dfEtf"
      }
    },
    {
      "cell_type": "code",
      "source": [
        "import cvxpy as cp\n",
        "import numpy as np\n",
        "import numpy.linalg as LA\n",
        "import matplotlib.pyplot as plt\n",
        "%matplotlib inline"
      ],
      "metadata": {
        "id": "_D_yVLmIe9Oe"
      },
      "execution_count": 30,
      "outputs": []
    },
    {
      "cell_type": "markdown",
      "source": [
        "## Sparse polynomial curve fitting"
      ],
      "metadata": {
        "id": "jZu7xIHtfH8B"
      }
    },
    {
      "cell_type": "markdown",
      "source": [
        "Generate data"
      ],
      "metadata": {
        "id": "YDNLWCnHLOXm"
      }
    },
    {
      "cell_type": "code",
      "source": [
        "# Original coefficient vector\n",
        "n = 81\n",
        "x_orig = np.zeros(n)\n",
        "x_orig[0] = -1\n",
        "x_orig[n-2] = 1\n",
        "\n",
        "# Measurement vetor y\n",
        "m = 11\n",
        "delta = 1/(m-1)\n",
        "t = np.arange(0,1+delta,delta)\n",
        "y = np.polyval(x_orig,t)"
      ],
      "metadata": {
        "id": "A79e6EauJZbj"
      },
      "execution_count": 66,
      "outputs": []
    },
    {
      "cell_type": "markdown",
      "source": [
        "10-th interpolating polynomial"
      ],
      "metadata": {
        "id": "F-toEZ22LRry"
      }
    },
    {
      "cell_type": "code",
      "source": [
        "# Vandermonde matrix\n",
        "Phi = np.vander(t)\n",
        "# Solve linear equation Phi * x = y\n",
        "x_11 = LA.solve(Phi,y)\n",
        "# Plot the obtained curve\n",
        "mm = 101\n",
        "dd = 1/(mm-1)\n",
        "time = np.arange(0,1+dd,dd)\n",
        "\n",
        "fig, ax = plt.subplots()\n",
        "ax.plot(time, np.polyval(x_11,time), label='10th poly (interpolation)')\n",
        "ax.plot(time, np.polyval(x_orig,time), label='original')\n",
        "ax.legend()\n",
        "ax.grid()\n"
      ],
      "metadata": {
        "colab": {
          "base_uri": "https://localhost:8080/",
          "height": 265
        },
        "id": "pAczJV4CJvXg",
        "outputId": "26a80c89-adb4-487c-f2e7-4019aa4f7360"
      },
      "execution_count": 67,
      "outputs": [
        {
          "output_type": "display_data",
          "data": {
            "text/plain": [
              "<Figure size 432x288 with 1 Axes>"
            ],
            "image/png": "[encoded data removed]"
          },
          "metadata": {
            "needs_background": "light"
          }
        }
      ]
    },
    {
      "cell_type": "markdown",
      "source": [
        "Ridge regression (L2 regularization)"
      ],
      "metadata": {
        "id": "BwFhMRmrOH1m"
      }
    },
    {
      "cell_type": "code",
      "source": [
        "# Regularization parameter lambda\n",
        "lmbd = 0.2\n",
        "# Solve L2 regularization\n",
        "A = np.identity(m) + np.dot(Phi.T,Phi)\n",
        "b = np.dot(Phi.T,y)\n",
        "x_ridge = LA.solve(A,b)\n",
        "# Plot the obtained curve\n",
        "fig, ax = plt.subplots()\n",
        "ax.plot(time, np.polyval(x_ridge,time), label='10th poly (Ridge)')\n",
        "ax.plot(time, np.polyval(x_orig,time), label='original')\n",
        "ax.legend()\n",
        "ax.grid()\n"
      ],
      "metadata": {
        "colab": {
          "base_uri": "https://localhost:8080/",
          "height": 265
        },
        "id": "upYBnAejLici",
        "outputId": "9dd2d823-29a8-400d-9e1b-a1ca549d89db"
      },
      "execution_count": 68,
      "outputs": [
        {
          "output_type": "display_data",
          "data": {
            "text/plain": [
              "<Figure size 432x288 with 1 Axes>"
            ],
            "image/png": "[encoded data removed]"
          },
          "metadata": {
            "needs_background": "light"
          }
        }
      ]
    },
    {
      "cell_type": "markdown",
      "source": [
        "Ridge regression (L2 regularization), 80th polynomial"
      ],
      "metadata": {
        "id": "RaAfeg8UQfnq"
      }
    },
    {
      "cell_type": "code",
      "source": [
        "# Extended Vandermonde matrix\n",
        "Phi_e = np.vander(t,n)\n",
        "# Regularization parameter lambda\n",
        "lmbd = 0.2\n",
        "# Solve L2 regularization\n",
        "A = np.identity(n) + np.dot(Phi_e.T,Phi_e)\n",
        "b = np.dot(Phi_e.T,y)\n",
        "x_ridge = LA.solve(A,b)\n",
        "\n",
        "# Plot the obtained curve\n",
        "fig, ax = plt.subplots()\n",
        "ax.plot(time, np.polyval(x_ridge,time), label='80th poly (Ridge)')\n",
        "ax.plot(time, np.polyval(x_orig,time), label='original')\n",
        "ax.legend()\n",
        "ax.grid()\n",
        "\n",
        "# Plot the obtained coefficients\n",
        "fig = plt.figure()\n",
        "ax1 = fig.add_subplot(1, 2, 1)\n",
        "ax1.stem(x_orig,use_line_collection=True)\n",
        "ax2 = fig.add_subplot(1, 2, 2)\n",
        "ax2.stem(x_ridge,use_line_collection=True)\n",
        "plt.ylim(-1,1)"
      ],
      "metadata": {
        "colab": {
          "base_uri": "https://localhost:8080/",
          "height": 534
        },
        "id": "KpiNSxOeQkIg",
        "outputId": "ec8defa6-d62e-4983-e0fb-d4bf06587614"
      },
      "execution_count": 74,
      "outputs": [
        {
          "output_type": "execute_result",
          "data": {
            "text/plain": [
              "(-1.0, 1.0)"
            ]
          },
          "metadata": {},
          "execution_count": 74
        },
        {
          "output_type": "display_data",
          "data": {
            "text/plain": [
              "<Figure size 432x288 with 1 Axes>"
            ],
            "image/png": "[encoded data removed]"
          },
          "metadata": {
            "needs_background": "light"
          }
        },
        {
          "output_type": "display_data",
          "data": {
            "text/plain": [
              "<Figure size 432x288 with 2 Axes>"
            ],
            "image/png": "[encoded data removed]"
          },
          "metadata": {
            "needs_background": "light"
          }
        }
      ]
    },
    {
      "cell_type": "markdown",
      "source": [
        "Sparse modeling"
      ],
      "metadata": {
        "id": "dBtCe_DFPqpF"
      }
    },
    {
      "cell_type": "code",
      "source": [
        "# Extended Vandermonde matrix\n",
        "Phi_e = np.vander(t,n)\n",
        "# optimization variable\n",
        "x = cp.Variable(n)\n",
        "# cost function (L1 norm)\n",
        "cost = cp.norm1(x)\n",
        "# constraints (linear equations)\n",
        "constraints = [Phi_e @ x == y]\n",
        "# optimization problem\n",
        "prob = cp.Problem(cp.Minimize(cost), constraints)\n",
        "# solve by CVXPY\n",
        "prob.solve()\n",
        "# print the result\n",
        "print(\"status:\", prob.status)\n",
        "print(\"optimal value\", prob.value)\n",
        "\n",
        "# Plot the obtained curve\n",
        "fig, ax = plt.subplots()\n",
        "ax.plot(time, np.polyval(x.value,time), label='80th poly (Sparse)')\n",
        "ax.plot(time, np.polyval(x_orig,time), label='original')\n",
        "ax.legend()\n",
        "ax.grid()\n",
        "\n",
        "# Plot the obtained coefficients\n",
        "fig = plt.figure()\n",
        "ax1 = fig.add_subplot(1, 2, 1)\n",
        "ax1.stem(x_orig,use_line_collection=True)\n",
        "ax2 = fig.add_subplot(1, 2, 2)\n",
        "ax2.stem(x.value,use_line_collection=True)\n",
        "plt.ylim(-1,1)"
      ],
      "metadata": {
        "colab": {
          "base_uri": "https://localhost:8080/",
          "height": 569
        },
        "id": "gwaeZq-UOboo",
        "outputId": "50c301ef-adf9-4232-f1a8-c942f03aef65"
      },
      "execution_count": 75,
      "outputs": [
        {
          "output_type": "stream",
          "name": "stdout",
          "text": [
            "status: optimal\n",
            "optimal value 1.9999999994152589\n"
          ]
        },
        {
          "output_type": "execute_result",
          "data": {
            "text/plain": [
              "(-1.0, 1.0)"
            ]
          },
          "metadata": {},
          "execution_count": 75
        },
        {
          "output_type": "display_data",
          "data": {
            "text/plain": [
              "<Figure size 432x288 with 1 Axes>"
            ],
            "image/png": "[encoded data removed]"
          },
          "metadata": {
            "needs_background": "light"
          }
        },
        {
          "output_type": "display_data",
          "data": {
            "text/plain": [
              "<Figure size 432x288 with 2 Axes>"
            ],
            "image/png": "[encoded data removed]"
          },
          "metadata": {
            "needs_background": "light"
          }
        }
      ]
    },
    {
      "cell_type": "markdown",
      "source": [
        "## Random measurement matrix"
      ],
      "metadata": {
        "id": "itIQS7pQJaO2"
      }
    },
    {
      "cell_type": "code",
      "source": [
        "# vector size\n",
        "n = 1000\n",
        "k = 5\n",
        "# random seed\n",
        "np.random.seed(1)\n",
        "# original vector (n-dimensional, k-sparse)\n",
        "x_orig = np.zeros(n)\n",
        "S = np.random.randint(n,size=k)\n",
        "x_orig[S] = 1"
      ],
      "metadata": {
        "id": "FqijGz5PfDW0"
      },
      "execution_count": 76,
      "outputs": []
    },
    {
      "cell_type": "markdown",
      "source": [
        "Measurement matrix $A$"
      ],
      "metadata": {
        "id": "DFvRDs-MfRlu"
      }
    },
    {
      "cell_type": "code",
      "source": [
        "# measurement matrix (random matrix)\n",
        "m = 100\n",
        "A = np.random.randn(m, n)"
      ],
      "metadata": {
        "id": "Z-zt7eTlfQZm"
      },
      "execution_count": 77,
      "outputs": []
    },
    {
      "cell_type": "markdown",
      "source": [
        "Measurement vector $b$"
      ],
      "metadata": {
        "id": "UWhhyZzDfZyb"
      }
    },
    {
      "cell_type": "code",
      "source": [
        "# measurement vector\n",
        "b = np.dot(A, x_orig) + np.random.randn(m) * np.sqrt(0.1)"
      ],
      "metadata": {
        "id": "5F4zFJpKfYcd"
      },
      "execution_count": 87,
      "outputs": []
    },
    {
      "cell_type": "code",
      "source": [
        "b.shape"
      ],
      "metadata": {
        "colab": {
          "base_uri": "https://localhost:8080/"
        },
        "id": "wBKljYNcsiZh",
        "outputId": "ad267a65-e949-4614-f8b9-ab13064f4714"
      },
      "execution_count": 88,
      "outputs": [
        {
          "output_type": "execute_result",
          "data": {
            "text/plain": [
              "(100,)"
            ]
          },
          "metadata": {},
          "execution_count": 88
        }
      ]
    },
    {
      "cell_type": "markdown",
      "source": [
        "Optimization $$\\text{minimize} ~ \\|x\\|_1 ~~ \\text{subjec to} ~ Ax = b$$"
      ],
      "metadata": {
        "id": "7w2Sfd7Bfetm"
      }
    },
    {
      "cell_type": "code",
      "source": [
        "# optimization variable\n",
        "x = cp.Variable(n)\n",
        "# cost function (L1 norm)\n",
        "cost = cp.norm1(x)\n",
        "# constraints (linear equations)\n",
        "constraints = [A @ x == b]\n",
        "# optimization problem\n",
        "prob = cp.Problem(cp.Minimize(cost), constraints)\n",
        "# solve by CVXPY\n",
        "prob.solve()\n",
        "# print the result\n",
        "print(\"status:\", prob.status)\n",
        "print(\"optimal value\", prob.value)"
      ],
      "metadata": {
        "colab": {
          "base_uri": "https://localhost:8080/"
        },
        "id": "KR7ocplHfdUH",
        "outputId": "7f4f345e-f485-4b51-9ae1-1337eac9258b"
      },
      "execution_count": 89,
      "outputs": [
        {
          "output_type": "stream",
          "name": "stdout",
          "text": [
            "status: optimal\n",
            "optimal value 6.391310934868206\n"
          ]
        }
      ]
    },
    {
      "cell_type": "markdown",
      "source": [
        "Figures"
      ],
      "metadata": {
        "id": "hKNKQdt1fqbe"
      }
    },
    {
      "cell_type": "code",
      "source": [
        "fig = plt.figure()\n",
        "ax1 = fig.add_subplot(1, 2, 1)\n",
        "ax1.stem(x_orig,use_line_collection=True)\n",
        "ax2 = fig.add_subplot(1, 2, 2)\n",
        "ax2.stem(x.value,use_line_collection=True)"
      ],
      "metadata": {
        "colab": {
          "base_uri": "https://localhost:8080/",
          "height": 282
        },
        "id": "2_jyPUVgfjoa",
        "outputId": "5a3860fe-dca3-49fb-cdc7-38facf6497b4"
      },
      "execution_count": 90,
      "outputs": [
        {
          "output_type": "execute_result",
          "data": {
            "text/plain": [
              "<StemContainer object of 3 artists>"
            ]
          },
          "metadata": {},
          "execution_count": 90
        },
        {
          "output_type": "display_data",
          "data": {
            "text/plain": [
              "<Figure size 432x288 with 2 Axes>"
            ],
            "image/png": "[encoded data removed]"
          },
          "metadata": {
            "needs_background": "light"
          }
        }
      ]
    },
    {
      "cell_type": "markdown",
      "source": [
        "Optimization (LASSO) $$\\text{minimize} ~ \\|Ax-b\\|_2^2 + \\lambda \\|x\\|_1$$"
      ],
      "metadata": {
        "id": "uA_V26jIs41m"
      }
    },
    {
      "cell_type": "code",
      "source": [
        "# optimization variable\n",
        "x = cp.Variable(n)\n",
        "# cost function (LASSO)\n",
        "lmbd = 1\n",
        "cost = cp.sum_squares(A @ x - b) + lmbd * cp.norm1(x)\n",
        "# constraints (between 0 and 1)\n",
        "constraints = [0 <= x, x <= 1]\n",
        "# optimization problem\n",
        "prob = cp.Problem(cp.Minimize(cost), constraints)\n",
        "# solve by CVXPY\n",
        "prob.solve()\n",
        "# print the result\n",
        "print(\"status:\", prob.status)\n",
        "print(\"optimal value\", prob.value)\n",
        "\n",
        "# Figures\n",
        "fig = plt.figure()\n",
        "ax1 = fig.add_subplot(1, 2, 1)\n",
        "ax1.stem(x_orig,use_line_collection=True)\n",
        "ax2 = fig.add_subplot(1, 2, 2)\n",
        "ax2.stem(x.value,use_line_collection=True)"
      ],
      "metadata": {
        "colab": {
          "base_uri": "https://localhost:8080/",
          "height": 317
        },
        "id": "DgCEaixks-_n",
        "outputId": "aa572e46-8d00-4bf0-e2e2-9c49e1e3a9ab"
      },
      "execution_count": 97,
      "outputs": [
        {
          "output_type": "stream",
          "name": "stdout",
          "text": [
            "status: optimal\n",
            "optimal value 6.561499394348464\n"
          ]
        },
        {
          "output_type": "execute_result",
          "data": {
            "text/plain": [
              "<StemContainer object of 3 artists>"
            ]
          },
          "metadata": {},
          "execution_count": 97
        },
        {
          "output_type": "display_data",
          "data": {
            "text/plain": [
              "<Figure size 432x288 with 2 Axes>"
            ],
            "image/png": "[encoded data removed]"
          },
          "metadata": {
            "needs_background": "light"
          }
        }
      ]
    },
    {
      "cell_type": "code",
      "source": [
        ""
      ],
      "metadata": {
        "id": "u7dKxw6ntbwO"
      },
      "execution_count": null,
      "outputs": []
    }
  ]
}