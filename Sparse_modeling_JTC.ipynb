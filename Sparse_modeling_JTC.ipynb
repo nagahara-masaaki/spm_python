{
  "nbformat": 4,
  "nbformat_minor": 0,
  "metadata": {
    "colab": {
      "name": "Sparse_modeling.ipynb",
      "provenance": [],
      "authorship_tag": "ABX9TyPUSKanZ19UysFDsO+KpNEM",
      "include_colab_link": true
    },
    "kernelspec": {
      "name": "python3",
      "display_name": "Python 3"
    },
    "language_info": {
      "name": "python"
    }
  },
  "cells": [
    {
      "cell_type": "markdown",
      "metadata": {
        "id": "view-in-github",
        "colab_type": "text"
      },
      "source": [
        "<a href=\"https://colab.research.google.com/github/nagahara-masaaki/spm_python/blob/main/Sparse_modeling_JTC.ipynb\" target=\"_parent\"><img src=\"https://colab.research.google.com/assets/colab-badge.svg\" alt=\"Open In Colab\"/></a>"
      ]
    },
    {
      "cell_type": "markdown",
      "source": [
        "# スパースモデリング\n",
        "永原正章（北九州市立大学）"
      ],
      "metadata": {
        "id": "rZ4EXblWeuzo"
      }
    },
    {
      "cell_type": "markdown",
      "source": [
        "## Initialization"
      ],
      "metadata": {
        "id": "RI9S4nwzJTfg"
      }
    },
    {
      "cell_type": "markdown",
      "source": [
        "Install CVXPY"
      ],
      "metadata": {
        "id": "9zzx7n-1e5ia"
      }
    },
    {
      "cell_type": "code",
      "source": [
        "! pip install cvxpy"
      ],
      "metadata": {
        "colab": {
          "base_uri": "https://localhost:8080/"
        },
        "id": "38v5JBuye30L",
        "outputId": "5687d4de-ef4e-48c3-b330-11b123b12f87"
      },
      "execution_count": null,
      "outputs": [
        {
          "output_type": "stream",
          "name": "stdout",
          "text": [
            "Looking in indexes: https://pypi.org/simple, https://us-python.pkg.dev/colab-wheels/public/simple/\n",
            "Requirement already satisfied: cvxpy in /usr/local/lib/python3.7/dist-packages (1.0.31)\n",
            "Requirement already satisfied: osqp>=0.4.1 in /usr/local/lib/python3.7/dist-packages (from cvxpy) (0.6.2.post0)\n",
            "Requirement already satisfied: numpy>=1.15 in /usr/local/lib/python3.7/dist-packages (from cvxpy) (1.21.6)\n",
            "Requirement already satisfied: multiprocess in /usr/local/lib/python3.7/dist-packages (from cvxpy) (0.70.13)\n",
            "Requirement already satisfied: ecos>=2 in /usr/local/lib/python3.7/dist-packages (from cvxpy) (2.0.10)\n",
            "Requirement already satisfied: scs>=1.1.3 in /usr/local/lib/python3.7/dist-packages (from cvxpy) (3.2.0)\n",
            "Requirement already satisfied: scipy>=1.1.0 in /usr/local/lib/python3.7/dist-packages (from cvxpy) (1.4.1)\n",
            "Requirement already satisfied: qdldl in /usr/local/lib/python3.7/dist-packages (from osqp>=0.4.1->cvxpy) (0.1.5.post2)\n",
            "Requirement already satisfied: dill>=0.3.5.1 in /usr/local/lib/python3.7/dist-packages (from multiprocess->cvxpy) (0.3.5.1)\n"
          ]
        }
      ]
    },
    {
      "cell_type": "markdown",
      "source": [
        "Import packages"
      ],
      "metadata": {
        "id": "dRiHYr6dfEtf"
      }
    },
    {
      "cell_type": "code",
      "source": [
        "import cvxpy as cp\n",
        "import numpy as np\n",
        "import numpy.linalg as LA\n",
        "import matplotlib.pyplot as plt\n",
        "%matplotlib inline"
      ],
      "metadata": {
        "id": "_D_yVLmIe9Oe"
      },
      "execution_count": null,
      "outputs": []
    },
    {
      "cell_type": "markdown",
      "source": [
        "## Group Testing"
      ],
      "metadata": {
        "id": "dKq-yXPFtOVo"
      }
    },
    {
      "cell_type": "code",
      "source": [
        "### Group testing\n",
        "# vector size (number of people)\n",
        "n = 10000\n",
        "# number of positives\n",
        "k = 10\n",
        "# random seed\n",
        "np.random.seed(1)\n",
        "\n",
        "# original vector (n-dimensional, k-sparse)\n",
        "x_orig = np.zeros(n)\n",
        "S = np.random.randint(n,size=k)\n",
        "x_orig[S] = 1\n",
        "\n",
        "# number of tests\n",
        "m = 1000\n",
        "\n",
        "# testing matrix\n",
        "A = np.random.randint(2,size=(m, n))\n",
        "\n",
        "# result vector\n",
        "y = A @ x_orig\n",
        "\n",
        "#### optimization by CVXPY\n",
        "# optimization variable\n",
        "x = cp.Variable(n)\n",
        "# cost function (L1 norm)\n",
        "cost = cp.norm1(x)\n",
        "# constraints (linear equations)\n",
        "constraints = [A @ x == y]\n",
        "# optimization problem\n",
        "prob = cp.Problem(cp.Minimize(cost), constraints)\n",
        "# solve by CVXPY\n",
        "prob.solve()\n",
        "# print the result\n",
        "print(\"status:\", prob.status)\n",
        "print(\"optimal value\", prob.value)"
      ],
      "metadata": {
        "colab": {
          "base_uri": "https://localhost:8080/"
        },
        "id": "Pb9twdAwtJ-U",
        "outputId": "de54953c-0f9a-4b6e-a394-fb88d293f892"
      },
      "execution_count": null,
      "outputs": [
        {
          "output_type": "stream",
          "name": "stdout",
          "text": [
            "status: optimal_inaccurate\n",
            "optimal value 9.999999992604387\n"
          ]
        }
      ]
    },
    {
      "cell_type": "markdown",
      "source": [
        "Results:"
      ],
      "metadata": {
        "id": "FvPh_d5Lw8XT"
      }
    },
    {
      "cell_type": "code",
      "source": [
        "\n",
        "fig = plt.figure()\n",
        "ax1 = fig.add_subplot(1, 2, 1)\n",
        "ax1.stem(x_orig,use_line_collection=True)\n",
        "plt.ylim(-0.1,1.1)\n",
        "ax2 = fig.add_subplot(1, 2, 2)\n",
        "ax2.stem(x.value,use_line_collection=True)\n",
        "plt.ylim(-0.1,1.1)\n",
        "print(np.nonzero(x_orig))\n",
        "x_est=np.trunc(x.value*1000)/1000\n",
        "print(x_est.nonzero())\n"
      ],
      "metadata": {
        "colab": {
          "base_uri": "https://localhost:8080/",
          "height": 301
        },
        "outputId": "c69e5817-a185-4909-968a-d6e42e57f60c",
        "id": "4R_UmxUZwqPF"
      },
      "execution_count": null,
      "outputs": [
        {
          "output_type": "stream",
          "name": "stdout",
          "text": [
            "(array([ 144,  235,  905, 2895, 3462, 4225, 5056, 5192, 7751, 7813]),)\n",
            "(array([ 144,  235,  905, 2895, 3462, 4225, 5056, 5192, 7751, 7813]),)\n"
          ]
        },
        {
          "output_type": "display_data",
          "data": {
            "text/plain": [
              "<Figure size 432x288 with 2 Axes>"
            ],
            "image/png": "[encoded data removed]"
          },
          "metadata": {
            "needs_background": "light"
          }
        }
      ]
    },
    {
      "cell_type": "markdown",
      "source": [
        "## Sparse polynomial curve fitting"
      ],
      "metadata": {
        "id": "jZu7xIHtfH8B"
      }
    },
    {
      "cell_type": "markdown",
      "source": [
        "Generate data"
      ],
      "metadata": {
        "id": "YDNLWCnHLOXm"
      }
    },
    {
      "cell_type": "code",
      "source": [
        "# Original coefficient vector\n",
        "n = 81\n",
        "x_orig = np.zeros(n)\n",
        "x_orig[0] = -1\n",
        "x_orig[n-2] = 1\n",
        "\n",
        "# Measurement vetor y\n",
        "m = 11\n",
        "delta = 1/(m-1)\n",
        "t = np.arange(0,1+delta,delta)\n",
        "y = np.polyval(x_orig,t)"
      ],
      "metadata": {
        "id": "A79e6EauJZbj"
      },
      "execution_count": null,
      "outputs": []
    },
    {
      "cell_type": "markdown",
      "source": [
        "10-th interpolating polynomial"
      ],
      "metadata": {
        "id": "F-toEZ22LRry"
      }
    },
    {
      "cell_type": "code",
      "source": [
        "# Vandermonde matrix\n",
        "Phi = np.vander(t)\n",
        "# Solve linear equation Phi * x = y\n",
        "x_11 = LA.solve(Phi,y)\n",
        "# Plot the obtained curve\n",
        "mm = 101\n",
        "dd = 1/(mm-1)\n",
        "time = np.arange(0,1+dd,dd)\n",
        "\n",
        "fig, ax = plt.subplots()\n",
        "ax.plot(time, np.polyval(x_11,time), label='10th poly (interpolation)')\n",
        "ax.plot(time, np.polyval(x_orig,time), label='original')\n",
        "ax.legend()\n",
        "ax.grid()\n"
      ],
      "metadata": {
        "colab": {
          "base_uri": "https://localhost:8080/",
          "height": 265
        },
        "id": "pAczJV4CJvXg",
        "outputId": "f347621a-c60e-4d4a-d5d8-5f7b2ffdbcc2"
      },
      "execution_count": null,
      "outputs": [
        {
          "output_type": "display_data",
          "data": {
            "text/plain": [
              "<Figure size 432x288 with 1 Axes>"
            ],
            "image/png": "[encoded data removed]"
          },
          "metadata": {
            "needs_background": "light"
          }
        }
      ]
    },
    {
      "cell_type": "markdown",
      "source": [
        "Ridge regression (L2 regularization)"
      ],
      "metadata": {
        "id": "BwFhMRmrOH1m"
      }
    },
    {
      "cell_type": "code",
      "source": [
        "# Regularization parameter lambda\n",
        "lmbd = 0.2\n",
        "# Solve L2 regularization\n",
        "A = np.identity(m) + np.dot(Phi.T,Phi)\n",
        "b = np.dot(Phi.T,y)\n",
        "x_ridge = LA.solve(A,b)\n",
        "# Plot the obtained curve\n",
        "fig, ax = plt.subplots()\n",
        "ax.plot(time, np.polyval(x_ridge,time), label='10th poly (Ridge)')\n",
        "ax.plot(time, np.polyval(x_orig,time), label='original')\n",
        "ax.legend()\n",
        "ax.grid()\n"
      ],
      "metadata": {
        "colab": {
          "base_uri": "https://localhost:8080/",
          "height": 265
        },
        "id": "upYBnAejLici",
        "outputId": "edc41d53-d8c5-44fb-d7b1-4d5d2ec36952"
      },
      "execution_count": null,
      "outputs": [
        {
          "output_type": "display_data",
          "data": {
            "text/plain": [
              "<Figure size 432x288 with 1 Axes>"
            ],
            "image/png": "[encoded data removed]"
          },
          "metadata": {
            "needs_background": "light"
          }
        }
      ]
    },
    {
      "cell_type": "markdown",
      "source": [
        "Ridge regression (L2 regularization), 80th polynomial"
      ],
      "metadata": {
        "id": "RaAfeg8UQfnq"
      }
    },
    {
      "cell_type": "code",
      "source": [
        "# Extended Vandermonde matrix\n",
        "Phi_e = np.vander(t,n)\n",
        "# Regularization parameter lambda\n",
        "lmbd = 0.2\n",
        "# Solve L2 regularization\n",
        "A = np.identity(n) + np.dot(Phi_e.T,Phi_e)\n",
        "b = np.dot(Phi_e.T,y)\n",
        "x_ridge = LA.solve(A,b)\n",
        "\n",
        "# Plot the obtained curve\n",
        "fig, ax = plt.subplots()\n",
        "ax.plot(time, np.polyval(x_ridge,time), label='80th poly (Ridge)')\n",
        "ax.plot(time, np.polyval(x_orig,time), label='original')\n",
        "ax.legend()\n",
        "ax.grid()\n",
        "\n",
        "# Plot the obtained coefficients\n",
        "fig = plt.figure()\n",
        "ax1 = fig.add_subplot(1, 2, 1)\n",
        "ax1.stem(x_orig,use_line_collection=True)\n",
        "plt.ylim(-1.1,1.1)\n",
        "ax2 = fig.add_subplot(1, 2, 2)\n",
        "ax2.stem(x_ridge,use_line_collection=True)\n",
        "plt.ylim(-1.1,1.1)"
      ],
      "metadata": {
        "colab": {
          "base_uri": "https://localhost:8080/",
          "height": 531
        },
        "id": "KpiNSxOeQkIg",
        "outputId": "9f5e22b8-acd8-4408-9af5-2d2ab534b71a"
      },
      "execution_count": null,
      "outputs": [
        {
          "output_type": "execute_result",
          "data": {
            "text/plain": [
              "(-1.1, 1.1)"
            ]
          },
          "metadata": {},
          "execution_count": 23
        },
        {
          "output_type": "display_data",
          "data": {
            "text/plain": [
              "<Figure size 432x288 with 1 Axes>"
            ],
            "image/png": "[encoded data removed]"
          },
          "metadata": {
            "needs_background": "light"
          }
        },
        {
          "output_type": "display_data",
          "data": {
            "text/plain": [
              "<Figure size 432x288 with 2 Axes>"
            ],
            "image/png": "[encoded data removed]"
          },
          "metadata": {
            "needs_background": "light"
          }
        }
      ]
    },
    {
      "cell_type": "markdown",
      "source": [
        "Sparse modeling"
      ],
      "metadata": {
        "id": "dBtCe_DFPqpF"
      }
    },
    {
      "cell_type": "code",
      "source": [
        "# Extended Vandermonde matrix\n",
        "Phi_e = np.vander(t,n)\n",
        "# optimization variable\n",
        "x = cp.Variable(n)\n",
        "# cost function (L1 norm)\n",
        "cost = cp.norm1(x)\n",
        "# constraints (linear equations)\n",
        "constraints = [Phi_e @ x == y]\n",
        "# optimization problem\n",
        "prob = cp.Problem(cp.Minimize(cost), constraints)\n",
        "# solve by CVXPY\n",
        "prob.solve()\n",
        "# print the result\n",
        "print(\"status:\", prob.status)\n",
        "print(\"optimal value\", prob.value)\n",
        "\n",
        "# Plot the obtained curve\n",
        "fig, ax = plt.subplots()\n",
        "ax.plot(time, np.polyval(x.value,time), label='80th poly (Sparse)')\n",
        "ax.plot(time, np.polyval(x_orig,time), label='original')\n",
        "ax.legend()\n",
        "ax.grid()\n",
        "\n",
        "# Plot the obtained coefficients\n",
        "fig = plt.figure()\n",
        "ax1 = fig.add_subplot(1, 2, 1)\n",
        "ax1.stem(x_orig,use_line_collection=True)\n",
        "plt.ylim(-1.1,1.1)\n",
        "ax2 = fig.add_subplot(1, 2, 2)\n",
        "ax2.stem(x.value,use_line_collection=True)\n",
        "plt.ylim(-1.1,1.1)"
      ],
      "metadata": {
        "colab": {
          "base_uri": "https://localhost:8080/",
          "height": 567
        },
        "id": "gwaeZq-UOboo",
        "outputId": "b1b1001f-7f97-4b08-85b1-6f068ed5f86e"
      },
      "execution_count": null,
      "outputs": [
        {
          "output_type": "stream",
          "name": "stdout",
          "text": [
            "status: optimal\n",
            "optimal value 1.9999999994152589\n"
          ]
        },
        {
          "output_type": "execute_result",
          "data": {
            "text/plain": [
              "(-1.1, 1.1)"
            ]
          },
          "metadata": {},
          "execution_count": 24
        },
        {
          "output_type": "display_data",
          "data": {
            "text/plain": [
              "<Figure size 432x288 with 1 Axes>"
            ],
            "image/png": "[encoded data removed]"
          },
          "metadata": {
            "needs_background": "light"
          }
        },
        {
          "output_type": "display_data",
          "data": {
            "text/plain": [
              "<Figure size 432x288 with 2 Axes>"
            ],
            "image/png": "[encoded data removed]"
          },
          "metadata": {
            "needs_background": "light"
          }
        }
      ]
    },
    {
      "cell_type": "markdown",
      "source": [
        "## Python CVX の練習"
      ],
      "metadata": {
        "id": "itIQS7pQJaO2"
      }
    },
    {
      "cell_type": "code",
      "source": [
        "# vector size\n",
        "n = 1000\n",
        "k = 5\n",
        "# random seed\n",
        "np.random.seed(1)\n",
        "# original vector (n-dimensional, k-sparse)\n",
        "x_orig = np.zeros(n)\n",
        "S = np.random.randint(n,size=k)\n",
        "x_orig[S] = 1"
      ],
      "metadata": {
        "id": "FqijGz5PfDW0"
      },
      "execution_count": null,
      "outputs": []
    },
    {
      "cell_type": "markdown",
      "source": [
        "Measurement matrix $A$"
      ],
      "metadata": {
        "id": "DFvRDs-MfRlu"
      }
    },
    {
      "cell_type": "code",
      "source": [
        "# measurement matrix (random matrix)\n",
        "m = 100\n",
        "A = np.random.randn(m, n)"
      ],
      "metadata": {
        "id": "Z-zt7eTlfQZm"
      },
      "execution_count": null,
      "outputs": []
    },
    {
      "cell_type": "markdown",
      "source": [
        "Measurement vector $y$"
      ],
      "metadata": {
        "id": "UWhhyZzDfZyb"
      }
    },
    {
      "cell_type": "code",
      "source": [
        "# measurement vector\n",
        "y = np.dot(A, x_orig) + np.random.randn(m) * np.sqrt(0.1)"
      ],
      "metadata": {
        "id": "5F4zFJpKfYcd"
      },
      "execution_count": null,
      "outputs": []
    },
    {
      "cell_type": "markdown",
      "source": [
        "Optimization (1) $$\\text{minimize} ~ \\|x\\|_1 ~~ \\text{subjec to} ~ Ax = y$$"
      ],
      "metadata": {
        "id": "7w2Sfd7Bfetm"
      }
    },
    {
      "cell_type": "code",
      "source": [
        "# optimization variable\n",
        "x = cp.Variable(n)\n",
        "# cost function (L1 norm)\n",
        "cost = cp.norm1(x)\n",
        "# constraints (linear equations)\n",
        "constraints = [A @ x == y]\n",
        "# optimization problem\n",
        "prob = cp.Problem(cp.Minimize(cost), constraints)\n",
        "# solve by CVXPY\n",
        "prob.solve()\n",
        "# print the result\n",
        "print(\"status:\", prob.status)\n",
        "print(\"optimal value\", prob.value)\n",
        "\n",
        "# Figures\n",
        "fig = plt.figure()\n",
        "ax1 = fig.add_subplot(1, 2, 1)\n",
        "ax1.stem(x_orig,use_line_collection=True)\n",
        "plt.ylim(-0.1,1.1)\n",
        "ax2 = fig.add_subplot(1, 2, 2)\n",
        "ax2.stem(x.value,use_line_collection=True)\n",
        "plt.ylim(-0.1,1.1)\n"
      ],
      "metadata": {
        "colab": {
          "base_uri": "https://localhost:8080/",
          "height": 319
        },
        "id": "KR7ocplHfdUH",
        "outputId": "b58f39aa-ff47-4de4-fd40-9cf05c1720b6"
      },
      "execution_count": null,
      "outputs": [
        {
          "output_type": "stream",
          "name": "stdout",
          "text": [
            "status: optimal\n",
            "optimal value 6.370071855682554\n"
          ]
        },
        {
          "output_type": "execute_result",
          "data": {
            "text/plain": [
              "(-0.1, 1.1)"
            ]
          },
          "metadata": {},
          "execution_count": 13
        },
        {
          "output_type": "display_data",
          "data": {
            "text/plain": [
              "<Figure size 432x288 with 2 Axes>"
            ],
            "image/png": "[encoded data removed]"
          },
          "metadata": {
            "needs_background": "light"
          }
        }
      ]
    },
    {
      "cell_type": "markdown",
      "source": [
        "Optimization (3) $$\\text{minimize} ~ \\|Ax-y\\|_2^2 + \\lambda \\|x\\|_1 \\text{  subject to  } 0\\leq x\\leq 1$$ "
      ],
      "metadata": {
        "id": "uA_V26jIs41m"
      }
    },
    {
      "cell_type": "code",
      "source": [
        "# optimization variable\n",
        "x = cp.Variable(n)\n",
        "# cost function (LASSO)\n",
        "lmbd = 10\n",
        "cost = cp.norm1(A @ x - y) + lmbd * cp.norm1(x)\n",
        "# constraints (between 0 and 1)\n",
        "constraints = [0 <= x, x <= 1]\n",
        "# optimization problem\n",
        "prob = cp.Problem(cp.Minimize(cost), constraints)\n",
        "# solve by CVXPY\n",
        "prob.solve()\n",
        "# print the result\n",
        "print(\"status:\", prob.status)\n",
        "print(\"optimal value\", prob.value)\n",
        "\n",
        "# Figures\n",
        "fig = plt.figure()\n",
        "ax1 = fig.add_subplot(1, 2, 1)\n",
        "ax1.stem(x_orig,use_line_collection=True)\n",
        "plt.ylim(-0.1,1.1)\n",
        "ax2 = fig.add_subplot(1, 2, 2)\n",
        "ax2.stem(x.value,use_line_collection=True)\n",
        "plt.ylim(-0.1,1.1)"
      ],
      "metadata": {
        "colab": {
          "base_uri": "https://localhost:8080/",
          "height": 319
        },
        "id": "DgCEaixks-_n",
        "outputId": "48877c3a-ae52-4262-d276-6f2307f4e333"
      },
      "execution_count": null,
      "outputs": [
        {
          "output_type": "stream",
          "name": "stdout",
          "text": [
            "status: optimal\n",
            "optimal value 64.94902736659523\n"
          ]
        },
        {
          "output_type": "execute_result",
          "data": {
            "text/plain": [
              "(-0.1, 1.1)"
            ]
          },
          "metadata": {},
          "execution_count": 14
        },
        {
          "output_type": "display_data",
          "data": {
            "text/plain": [
              "<Figure size 432x288 with 2 Axes>"
            ],
            "image/png": "[encoded data removed]"
          },
          "metadata": {
            "needs_background": "light"
          }
        }
      ]
    },
    {
      "cell_type": "markdown",
      "source": [
        "# 凸最適化"
      ],
      "metadata": {
        "id": "kBvmZ42waBGU"
      }
    },
    {
      "cell_type": "markdown",
      "source": [
        "Douglas-Rachford 分離アルゴリズム"
      ],
      "metadata": {
        "id": "-yRElIbOaEYA"
      }
    },
    {
      "cell_type": "code",
      "source": [
        "## Douglas Rachford splitting\n",
        "# vector size\n",
        "n = 1000\n",
        "k = 5\n",
        "# random seed\n",
        "np.random.seed(1)\n",
        "# original vector (n-dimensional, k-sparse)\n",
        "x_orig = np.zeros(n)\n",
        "S = np.random.randint(n,size=k)\n",
        "x_orig[S] = 1\n",
        "# measurement matrix (random matrix)\n",
        "m = 100\n",
        "A = np.random.randn(m, n)\n",
        "# measurement vector\n",
        "y = np.dot(A, x_orig) + np.random.randn(m) * np.sqrt(0.1)\n",
        "\n",
        "# soft-thresholding function\n",
        "def soft_thresholding(lmbd,x):\n",
        "  return np.sign(x) * np.maximum(np.abs(x)-lmbd,0)\n",
        "\n",
        "# matrix M and vector w\n",
        "M1 = A.T @ LA.inv(A @ A.T)\n",
        "M = np.eye(n) - M1 @ A\n",
        "w = M1 @ y\n",
        "\n",
        "# iteration\n",
        "MAX_ITER = 1000\n",
        "gamma = 1\n",
        "z = np.zeros(n)\n",
        "for i in np.arange(MAX_ITER):\n",
        "  x = soft_thresholding(gamma,z)\n",
        "  z = z + M @ (2*x - z) + w - x\n",
        "\n"
      ],
      "metadata": {
        "id": "u7dKxw6ntbwO"
      },
      "execution_count": null,
      "outputs": []
    },
    {
      "cell_type": "code",
      "source": [
        "# Figures\n",
        "fig = plt.figure()\n",
        "ax1 = fig.add_subplot(1, 2, 1)\n",
        "ax1.stem(x_orig,use_line_collection=True)\n",
        "plt.ylim(-0.1,1.1)\n",
        "ax2 = fig.add_subplot(1, 2, 2)\n",
        "ax2.stem(x,use_line_collection=True)\n",
        "plt.ylim(-0.1,1.1)"
      ],
      "metadata": {
        "colab": {
          "base_uri": "https://localhost:8080/",
          "height": 283
        },
        "id": "zL_kM3l3WHEw",
        "outputId": "e73ecf94-abce-4500-8cf0-827cc328af7c"
      },
      "execution_count": null,
      "outputs": [
        {
          "output_type": "execute_result",
          "data": {
            "text/plain": [
              "(-0.1, 1.1)"
            ]
          },
          "metadata": {},
          "execution_count": 16
        },
        {
          "output_type": "display_data",
          "data": {
            "text/plain": [
              "<Figure size 432x288 with 2 Axes>"
            ],
            "image/png": "[encoded data removed]"
          },
          "metadata": {
            "needs_background": "light"
          }
        }
      ]
    },
    {
      "cell_type": "markdown",
      "source": [
        "Iterative Shrinkage-Thresholding (IST)"
      ],
      "metadata": {
        "id": "9ZnW_xfWaJiQ"
      }
    },
    {
      "cell_type": "code",
      "source": [
        "## Iterative Shrinkage-Thresholding (IST)\n",
        "# vector size\n",
        "n = 1000\n",
        "k = 5\n",
        "# random seed\n",
        "np.random.seed(1)\n",
        "# original vector (n-dimensional, k-sparse)\n",
        "x_orig = np.zeros(n)\n",
        "S = np.random.randint(n,size=k)\n",
        "x_orig[S] = 1\n",
        "# measurement matrix (random matrix)\n",
        "m = 100\n",
        "A = np.random.randn(m, n)\n",
        "# measurement vector\n",
        "y = np.dot(A, x_orig) + np.random.randn(m) * np.sqrt(0.1)\n",
        "\n",
        "# soft-thresholding function\n",
        "def soft_thresholding(lmbd,x):\n",
        "  return np.sign(x) * np.maximum(np.abs(x)-lmbd,0)\n",
        "\n",
        "# matrix M and vector w\n",
        "M1 = A.T @ LA.inv(A @ A.T)\n",
        "M = np.eye(n) - M1 @ A\n",
        "w = M1 @ y\n",
        "\n",
        "# LASSO\n",
        "lmbd = 10\n",
        "normA = LA.norm(A,2)\n",
        "c = normA**2\n",
        "\n",
        "# iteration\n",
        "MAX_ITER = 1000\n",
        "gamma = 1\n",
        "x = np.zeros(n)\n",
        "for i in np.arange(MAX_ITER):\n",
        "  x = soft_thresholding(lmbd/c,A.T @ (y - A @ x)/c + x)\n",
        "\n"
      ],
      "metadata": {
        "id": "8UGVBMSoWKzD"
      },
      "execution_count": null,
      "outputs": []
    },
    {
      "cell_type": "code",
      "source": [
        "# Figures\n",
        "fig = plt.figure()\n",
        "ax1 = fig.add_subplot(1, 2, 1)\n",
        "ax1.stem(x_orig,use_line_collection=True)\n",
        "plt.ylim(-0.1,1.1)\n",
        "ax2 = fig.add_subplot(1, 2, 2)\n",
        "ax2.stem(x,use_line_collection=True)\n",
        "plt.ylim(-0.1,1.1)"
      ],
      "metadata": {
        "colab": {
          "base_uri": "https://localhost:8080/",
          "height": 283
        },
        "id": "YdHlGXM9Wg12",
        "outputId": "60d49347-aadb-47b8-d366-457c36c69451"
      },
      "execution_count": null,
      "outputs": [
        {
          "output_type": "execute_result",
          "data": {
            "text/plain": [
              "(-0.1, 1.1)"
            ]
          },
          "metadata": {},
          "execution_count": 18
        },
        {
          "output_type": "display_data",
          "data": {
            "text/plain": [
              "<Figure size 432x288 with 2 Axes>"
            ],
            "image/png": "[encoded data removed]"
          },
          "metadata": {
            "needs_background": "light"
          }
        }
      ]
    },
    {
      "cell_type": "code",
      "source": [
        ""
      ],
      "metadata": {
        "id": "Yab-XCmgYzTe"
      },
      "execution_count": null,
      "outputs": []
    }
  ]
}